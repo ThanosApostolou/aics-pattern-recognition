{
  "cells": [
    {
      "cell_type": "markdown",
      "metadata": {
        "id": "view-in-github",
        "colab_type": "text"
      },
      "source": [
        "<a href=\"https://colab.research.google.com/github/ThanosApostolou/aics-pattern-recognition/blob/main/IMDB.ipynb\" target=\"_parent\"><img src=\"https://colab.research.google.com/assets/colab-badge.svg\" alt=\"Open In Colab\"/></a>"
      ]
    },
    {
      "cell_type": "code",
      "source": [
        "# thanos\n",
        "# Load the TensorBoard notebook extension\n",
        "%load_ext tensorboard\n",
        "# Import tensorflow\n",
        "import tensorflow as tf\n",
        "import datetime, os\n",
        "from google.colab import drive\n",
        "drive.mount('/content/drive/')"
      ],
      "metadata": {
        "colab": {
          "base_uri": "https://localhost:8080/"
        },
        "id": "6IVUxAXvunto",
        "outputId": "0e6be8e5-1e80-446e-b744-08515a8aa742"
      },
      "id": "6IVUxAXvunto",
      "execution_count": null,
      "outputs": [
        {
          "output_type": "stream",
          "name": "stdout",
          "text": [
            "Mounted at /content/drive/\n"
          ]
        }
      ]
    },
    {
      "cell_type": "code",
      "execution_count": null,
      "id": "a210d42f-c5d5-482c-af63-778ae89a5d8f",
      "metadata": {
        "id": "a210d42f-c5d5-482c-af63-778ae89a5d8f"
      },
      "outputs": [],
      "source": [
        "import numpy as np \n",
        "import pandas as pd\n",
        "import os\n",
        "import matplotlib.pyplot as plt\n",
        "##MAIN PROGRAM VARIABLES##\n",
        "##(0): dataset: np array of strings\n",
        "##(1): dataframe: original dataset in its primal form\n",
        "##(2): ratings_num_df: new dataframe storing the number of rated items per unique user\n",
        "##(3): ratings_span_df: new dataframe storing the timespan in days for each user\n",
        "##(4): minimum_ratings - maximum_ratings => ratings_df=> (i) final_df"
      ]
    },
    {
      "cell_type": "code",
      "source": [
        "dataset = np.load('/content/drive/My Drive/Colab Notebooks/Dataset.npy')"
      ],
      "metadata": {
        "id": "HUwxZvhVuoaB"
      },
      "id": "HUwxZvhVuoaB",
      "execution_count": 5,
      "outputs": []
    },
    {
      "cell_type": "code",
      "execution_count": 7,
      "id": "8d888cda-c193-4098-9d1c-1a82e7c6282b",
      "metadata": {
        "id": "8d888cda-c193-4098-9d1c-1a82e7c6282b"
      },
      "outputs": [],
      "source": [
        "#Define the figures path\n",
        "FIGURES_PATH = \"figures\"\n",
        "os.makedirs(FIGURES_PATH, exist_ok=True)\n",
        "# #Define the data folder path\n",
        "DATAFOLDER_PATH = \"datafile\"\n",
        "os.makedirs(DATAFOLDER_PATH, exist_ok=True)\n",
        "#Load the dataset in an np array\n",
        "#datafile = \"datafile/Dataset.npy\"\n",
        "#dataset=np.load(dataset)"
      ]
    },
    {
      "cell_type": "code",
      "execution_count": 8,
      "id": "6ef26d1d-fe37-430c-8899-22953406249d",
      "metadata": {
        "id": "6ef26d1d-fe37-430c-8899-22953406249d"
      },
      "outputs": [],
      "source": [
        "#Define the splitter lambda function in order to tokenize the initial string data.\n",
        "splitter = lambda s: s.split(\",\")\n",
        "#Apply the splitter lambda function on the string np array\n",
        "dataset = np.array([splitter(x) for x in dataset])\n",
        "#Set the pickle file for storing the initial dataframe\n",
        "pickle_file = os.path.join(DATAFOLDER_PATH, \"dataframe.pkl\")\n",
        "#Check the existence of the specified file.\n",
        "if os.path.exists(pickle_file):\n",
        "    #Load the pickle file\n",
        "    dataframe = pd.read_pickle(pickle_file)\n",
        "else:\n",
        "    #Create the dataframe object.\n",
        "    dataframe = pd.DataFrame(dataset, columns=['User','Movie','Rating','Date'])\n",
        "    #Convert the string elements of the \"Users\" series into integers\n",
        "    dataframe[\"User\"] = dataframe[\"User\"].apply(lambda s:np.int64(s.replace(\"ur\",\"\")))\n",
        "    #Convert the string elements of the \"Movies\" series into integers\n",
        "    dataframe[\"Movie\"] = dataframe[\"Movie\"].apply(lambda s:np.int64(s.replace(\"tt\",\"\")))\n",
        "    #Convert the string elements of the \"Ratings\" series into integers\n",
        "    dataframe[\"Rating\"] = dataframe[\"Rating\"].apply(lambda s:np.int64(s))\n",
        "    #Convert the string element of \"Dates\" series into datetime Object\n",
        "    dataframe[\"Date\"] = pd.to_datetime(dataframe[\"Date\"])\n",
        "    dataframe.to_pickle(pickle_file)"
      ]
    },
    {
      "cell_type": "code",
      "execution_count": 10,
      "id": "8c5e2ea4-9604-4394-807d-1ede45da111f",
      "metadata": {
        "id": "8c5e2ea4-9604-4394-807d-1ede45da111f",
        "outputId": "2ea29a4f-0aaf-4cb6-91cb-5f55140ada45",
        "colab": {
          "base_uri": "https://localhost:8080/"
        }
      },
      "outputs": [
        {
          "output_type": "stream",
          "name": "stdout",
          "text": [
            "INITIAL DATASET: 1499238 number of unique users and 351109 of unique movies\n",
            "INITIAL DATASET: 4669820 total number of existing ratings\n"
          ]
        }
      ],
      "source": [
        "#Get the unique users in the dataset.\n",
        "users = dataframe[\"User\"].unique()\n",
        "#Get the number of unique users\n",
        "users_num = len(users)\n",
        "#Get the unique movie items in the dataset.\n",
        "movies = dataframe[\"Movie\"].unique()\n",
        "#Get the number of unique movies\n",
        "movies_num = len(movies)\n",
        "#Get the total number of existing ratings.\n",
        "ratings_num = dataframe.shape[0]\n",
        "#Report the number of unique Users and Movies in the dataset\n",
        "print(\"INITIAL DATASET: {0} number of unique users and {1} of unique movies\".format(users_num, movies_num))\n",
        "#Report the total number of existing ratings in the dataset\n",
        "print(\"INITIAL DATASET: {} total number of existing ratings\".format(ratings_num))"
      ]
    },
    {
      "cell_type": "code",
      "execution_count": 11,
      "id": "64464402-12c9-4080-a87d-6251f0d7beb5",
      "metadata": {
        "id": "64464402-12c9-4080-a87d-6251f0d7beb5"
      },
      "outputs": [],
      "source": [
        "#Define the pickle file that will store the time span per user dataframe\n",
        "pickle_file = os.path.join(DATAFOLDER_PATH, \"ratings_num_df.pkl\")\n",
        "#Check the existence of the previously defined pickle file\n",
        "if os.path.exists(pickle_file):\n",
        "    #Load the pickle file\n",
        "    ratings_num_df = pd.read_pickle(pickle_file)\n",
        "else:\n",
        "    ratings_num_df = dataframe.groupby(\"User\")[\"Rating\"].count().sort_values(ascending=False).reset_index(name=\"ratings_num\")\n",
        "    #Save the previously created dataframe to pickle\n",
        "    ratings_num_df.to_pickle(pickle_file)"
      ]
    },
    {
      "cell_type": "code",
      "execution_count": 12,
      "id": "f033c285-a2d3-4daf-9c96-8ebeb47f5103",
      "metadata": {
        "id": "f033c285-a2d3-4daf-9c96-8ebeb47f5103",
        "outputId": "77a8aa9d-f300-4e97-c709-cd6ed9198ee8",
        "colab": {
          "base_uri": "https://localhost:8080/",
          "height": 573
        }
      },
      "outputs": [
        {
          "output_type": "display_data",
          "data": {
            "text/plain": [
              "<Figure size 432x288 with 1 Axes>"
            ],
            "image/png": "[encoded data removed]"
          },
          "metadata": {
            "needs_background": "light"
          }
        },
        {
          "output_type": "display_data",
          "data": {
            "text/plain": [
              "<Figure size 432x288 with 1 Axes>"
            ],
            "image/png": "[encoded data removed]"
          },
          "metadata": {
            "needs_background": "light"
          }
        }
      ],
      "source": [
        "#Set the pickle file that will store the time span per user dataframe\n",
        "pickle_file = os.path.join(DATAFOLDER_PATH, \"ratings_span_df.pkl\")\n",
        "if os.path.exists(pickle_file):\n",
        "    ratings_span_df = pd.read_pickle(pickle_file)\n",
        "else:\n",
        "    ratings_span_df = dataframe.groupby(\"User\")[\"Date\"].apply(lambda date: max(date)-min(date)).sort_values(ascending=False).reset_index(name=\"ratings_span\")\n",
        "    ratings_span_df.to_pickle(pickle_file)\n",
        "#Create a new ratings dataframe by joining the previously defined dataframe\n",
        "ratings_df = ratings_num_df.join(ratings_span_df.set_index(\"User\"),on=\"User\")\n",
        "ratings_df[\"ratings_span\"]=ratings_df[\"ratings_span\"].dt.days\n",
        "#Set the threshold values for the minimum and maximum number of Ratings per user\n",
        "minimum_ratings = 100\n",
        "maximum_ratings = 300\n",
        "#Discard all users that do not pertain to the previous range of ratings\n",
        "reduced_ratings_df = ratings_df.loc[(ratings_df[\"ratings_num\"] >= minimum_ratings) & (ratings_df[\"ratings_num\"] <= maximum_ratings)]\n",
        "\n",
        "#Generate the frequency histogram for the number of ratings per user\n",
        "reduced_ratings_df[\"ratings_num\"].plot(kind='hist', title='Frequency of Ratings per User', xticks=range(minimum_ratings, maximum_ratings+1, 25))\n",
        "plt.xlabel('Frequency')\n",
        "plt.ylabel('Number of Users')\n",
        "\n",
        "plt.show()\n",
        "#Generate the frequency histogram for the time span of ratings per user\n",
        "reduced_ratings_df[\"ratings_span\"].plot(kind='hist', title='Frequency for time span of Ratings per User')\n",
        "plt.xlabel('Number of Users')\n",
        "plt.ylabel('Time range of Ratings (Days)')\n",
        "\n",
        "plt.show()\n",
        "\n",
        "\n",
        "\n",
        "                                                                                    "
      ]
    },
    {
      "cell_type": "code",
      "execution_count": 13,
      "id": "49d13f9b-ae75-4625-a9ed-2c1f19bdaa7d",
      "metadata": {
        "id": "49d13f9b-ae75-4625-a9ed-2c1f19bdaa7d",
        "outputId": "abdb2598-b969-472d-9ee3-7b4ca7a439be",
        "colab": {
          "base_uri": "https://localhost:8080/"
        }
      },
      "outputs": [
        {
          "output_type": "stream",
          "name": "stdout",
          "text": [
            "REDUCED DATASET: 2292 number of unique users and 91949 number of unique movies\n",
            "REDUCED DATASET: 370860 number of existing ratings in the dataset\n"
          ]
        }
      ],
      "source": [
        "#Get the final dataframe by excluding all users whose ratings fall outside the prespecified range\n",
        "final_df = dataframe.loc[dataframe[\"User\"].isin(reduced_ratings_df[\"User\"])].reset_index()\n",
        "#Drop the links (indices) to the original table\n",
        "final_df = final_df.drop(\"index\", axis=1)\n",
        "#Get the unique users and items in the final dataframe along with the final number of ratings\n",
        "final_users = final_df[\"User\"].unique()\n",
        "final_movies = final_df[\"Movie\"].unique()\n",
        "final_users_num = len(final_users)\n",
        "final_movies_num = len(final_movies)\n",
        "final_ratings_num = len(final_df)\n",
        "\n",
        "#Report the final number of unique users and movies in the dataset\n",
        "print(\"REDUCED DATASET: {0} number of unique users and {1} number of unique movies\".format(final_users_num, final_movies_num))\n",
        "#Report the final number of existing ratings in the dataset\n",
        "print(\"REDUCED DATASET: {} number of existing ratings in the dataset\".format(final_ratings_num))"
      ]
    },
    {
      "cell_type": "code",
      "execution_count": 14,
      "id": "ad131c64-257f-4f1b-9918-e005d7e96910",
      "metadata": {
        "id": "ad131c64-257f-4f1b-9918-e005d7e96910"
      },
      "outputs": [],
      "source": [
        "#We need to reset the users and items IDs in order to be able to construct a network of users and Movies. \n",
        "#Users and Movies IDs should be consecutive in the [1..final_users_num] and [1...final_movies_num]\n",
        "#Initially, we need to acquire the sorted versions of the user and movies\n",
        "sorted_final_users = np.sort(final_users)\n",
        "sorted_final_movies = np.sort(final_movies)\n",
        "#Generate the dictionary of final users as a mapping of the following \n",
        "#sorted_final_users --> [0...final_users_num-1]\n",
        "final_users_dict = dict(zip(sorted_final_users,list(range(0,final_users_num))))\n",
        "#Generate the dictionary of final items as a mapping of the following\n",
        "final_movies_dict = dict(zip(sorted_final_movies,list(range(0,final_movies_num))))\n",
        "#Apply the previously defined dictionary-based maps on the users and movies columns of the final dataframe\n",
        "final_df[\"User\"] = final_df[\"User\"].map(final_users_dict)\n",
        "final_df[\"Movie\"] = final_df[\"Movie\"].map(final_movies_dict)\n",
        "#Get a grouped version of the original dataframe based on the unique final users\n",
        "users_group_df = final_df.groupby(\"User\")\n",
        "#Initialize the adjacency matrix which stores the connection status for pair of users in the recommendation network\n",
        "W = np.zeros((final_users_num, final_users_num))\n",
        "#Iinitialize the matrix storing the number of commonly rated items for a pair of users\n",
        "CommonRatings = np.zeros((final_users_num, final_users_num))\n",
        "#Initialize the matrix of common ratings\n",
        "#Matrix W will be of size [final_users_num x final_users_num],\n",
        "#Let U = {u1, u2,...,un} be the final set of users and I = {i1,i2,...,im}\n",
        "#final set of movies. By considering the function Fi: U -> P(I) where\n",
        "#P(I) is the powerset of I, Fi(u) returns the subset of items that has been rated by user u. \n",
        "#In this context, the edge weight between any given pair of users (u,v) will be computed as:\n",
        "#\n",
        "#          |Intersection(Fi(u)),Fi(v))|\n",
        "#W(u,v) =  -----------------------------\n",
        "#               |Union(Fi(u),Fi(v))|\n",
        "#\n",
        "#\n",
        "#In order to speed up the construction of the adjacency matrix for the ratings network, \n",
        "#construct a dictionary object that will store a set of rated items for each unique user.\n",
        "user_items_dict = {}\n",
        "# for user in final_users:\n",
        "    #print(user)\n",
        "    # user_index = final_users_dict[user]\n",
        "    # user_movies = set(users_group_df.get_group(user_index)[\"Movie\"])\n",
        "    # user_items_dict[user_index] = user_movies\n",
        "                                                 \n",
        "# Initialize the dictionary for storing the set of rated items for each user\n",
        "user_items_dict = {}\n",
        "# print(final_users_dict)\n",
        "# print(sorted_final_users)\n",
        "# print(final_users_dict)\n",
        "# For each unique user, find the set of movies that they rated\n",
        "for user in final_users:\n",
        "    if user in final_users_dict:\n",
        "        user_index = final_users_dict[user]\n",
        "        user_movies = set(users_group_df.get_group(user_index)[\"Movie\"])\n",
        "        user_items_dict[user_index] = user_movies "
      ]
    },
    {
      "cell_type": "code",
      "execution_count": 15,
      "id": "c0327c71-7ac0-496c-b53c-083ddbbc36de",
      "metadata": {
        "id": "c0327c71-7ac0-496c-b53c-083ddbbc36de"
      },
      "outputs": [],
      "source": [
        "user_ids = list(user_items_dict.keys())\n",
        "user_ids.sort()\n",
        "#Generate the sorted version of the dictionary\n",
        "user_items_dict = {user_index:user_items_dict[user_index] for user_index in user_ids}\n",
        "#Set the pickle file that will store the graph adjacency matrix W.\n",
        "pickle_file_weights = os.path.join(DATAFOLDER_PATH, \"w\")\n",
        "pickle_file_common_ratings = os.path.join(DATAFOLDER_PATH, \"common_ratings\")\n",
        "#Check the existence of the previously defined pickle file\n",
        "if os.path.exists(pickle_file_weights) & os.path.exists(pickle_file_common_ratings):\n",
        "    #Load the pickle file\n",
        "    W = np.load(pickle_file_weights)\n",
        "    CommonRatings = np.load(pickle_file_common_ratings)\n",
        "else:\n",
        "    for source_user in user_items_dict.keys():\n",
        "        for target_user in user_items_dict.keys():\n",
        "            intersection_items = user_items_dict[source_user].intersection(user_items_dict[target_user])\n",
        "            union_items = user_items_dict[source_user].union(user_items_dict[target_user])\n",
        "            W[source_user, target_user] = len(intersection_items)/len(union_items)\n",
        "            CommonRatings[source_user, target_user] = len(intersection_items)\n",
        "    np.save(pickle_file_weights,W)\n",
        "    np.save(pickle_file_common_ratings,CommonRatings)"
      ]
    },
    {
      "cell_type": "code",
      "execution_count": 16,
      "id": "2310ff25-7ad9-4cf6-b6f0-ada4575d6362",
      "metadata": {
        "id": "2310ff25-7ad9-4cf6-b6f0-ada4575d6362",
        "outputId": "8a04471d-3f8e-47bf-a5b7-cebd5d92a0c9",
        "colab": {
          "base_uri": "https://localhost:8080/"
        }
      },
      "outputs": [
        {
          "output_type": "execute_result",
          "data": {
            "text/plain": [
              "array([[1.        , 0.00257732, 0.        , ..., 0.00998004, 0.02122016,\n",
              "        0.00481928],\n",
              "       [0.00257732, 1.        , 0.        , ..., 0.        , 0.00492611,\n",
              "        0.        ],\n",
              "       [0.        , 0.        , 1.        , ..., 0.        , 0.        ,\n",
              "        0.00414938],\n",
              "       ...,\n",
              "       [0.00998004, 0.        , 0.        , ..., 1.        , 0.00626959,\n",
              "        0.        ],\n",
              "       [0.02122016, 0.00492611, 0.        , ..., 0.00626959, 1.        ,\n",
              "        0.        ],\n",
              "       [0.00481928, 0.        , 0.00414938, ..., 0.        , 0.        ,\n",
              "        1.        ]])"
            ]
          },
          "metadata": {},
          "execution_count": 16
        }
      ],
      "source": [
        "W"
      ]
    },
    {
      "cell_type": "code",
      "execution_count": 17,
      "id": "77097013-5e4f-4e3c-832a-68b3f262e21f",
      "metadata": {
        "id": "77097013-5e4f-4e3c-832a-68b3f262e21f",
        "outputId": "78c77588-f8bb-40a2-d1d0-f385f8670e0f",
        "colab": {
          "base_uri": "https://localhost:8080/"
        }
      },
      "outputs": [
        {
          "output_type": "execute_result",
          "data": {
            "text/plain": [
              "array([[285.,   1.,   0., ...,   5.,   8.,   2.],\n",
              "       [  1., 104.,   0., ...,   0.,   1.,   0.],\n",
              "       [  0.,   0., 110., ...,   0.,   0.,   1.],\n",
              "       ...,\n",
              "       [  5.,   0.,   0., ..., 221.,   2.,   0.],\n",
              "       [  8.,   1.,   0., ...,   2., 100.,   0.],\n",
              "       [  2.,   0.,   1., ...,   0.,   0., 132.]])"
            ]
          },
          "metadata": {},
          "execution_count": 17
        }
      ],
      "source": [
        "CommonRatings"
      ]
    },
    {
      "cell_type": "code",
      "execution_count": 18,
      "id": "4959ffd5-63d3-4507-91da-77a2adbdd318",
      "metadata": {
        "id": "4959ffd5-63d3-4507-91da-77a2adbdd318",
        "outputId": "1aea05c7-01e8-4b7c-bfa8-7fef4e3072e5",
        "colab": {
          "base_uri": "https://localhost:8080/",
          "height": 677
        }
      },
      "outputs": [
        {
          "output_type": "execute_result",
          "data": {
            "text/plain": [
              "        User  Movie  Rating       Date\n",
              "0        674  14589      10 2005-01-16\n",
              "1        558  25059       8 2005-01-16\n",
              "2        366  33517       6 2005-01-16\n",
              "3        616  37484      10 2005-01-16\n",
              "4        450   8762       2 2005-01-16\n",
              "...      ...    ...     ...        ...\n",
              "370855   572  37373       6 2005-01-15\n",
              "370856    29  35124       7 2005-01-16\n",
              "370857   495  22042       6 2005-01-16\n",
              "370858    29  34937       9 2005-01-16\n",
              "370859   631  34124       8 2005-01-16\n",
              "\n",
              "[370860 rows x 4 columns]"
            ],
            "text/html": [
              "\n",
              "  <div id=\"df-459b6b2a-9e85-48a4-833e-4887298ef71d\">\n",
              "    <div class=\"colab-df-container\">\n",
              "      <div>\n",
              "<style scoped>\n",
              "    .dataframe tbody tr th:only-of-type {\n",
              "        vertical-align: middle;\n",
              "    }\n",
              "\n",
              "    .dataframe tbody tr th {\n",
              "        vertical-align: top;\n",
              "    }\n",
              "\n",
              "    .dataframe thead th {\n",
              "        text-align: right;\n",
              "    }\n",
              "</style>\n",
              "<table border=\"1\" class=\"dataframe\">\n",
              "  <thead>\n",
              "    <tr style=\"text-align: right;\">\n",
              "      <th></th>\n",
              "      <th>User</th>\n",
              "      <th>Movie</th>\n",
              "      <th>Rating</th>\n",
              "      <th>Date</th>\n",
              "    </tr>\n",
              "  </thead>\n",
              "  <tbody>\n",
              "    <tr>\n",
              "      <th>0</th>\n",
              "      <td>674</td>\n",
              "      <td>14589</td>\n",
              "      <td>10</td>\n",
              "      <td>2005-01-16</td>\n",
              "    </tr>\n",
              "    <tr>\n",
              "      <th>1</th>\n",
              "      <td>558</td>\n",
              "      <td>25059</td>\n",
              "      <td>8</td>\n",
              "      <td>2005-01-16</td>\n",
              "    </tr>\n",
              "    <tr>\n",
              "      <th>2</th>\n",
              "      <td>366</td>\n",
              "      <td>33517</td>\n",
              "      <td>6</td>\n",
              "      <td>2005-01-16</td>\n",
              "    </tr>\n",
              "    <tr>\n",
              "      <th>3</th>\n",
              "      <td>616</td>\n",
              "      <td>37484</td>\n",
              "      <td>10</td>\n",
              "      <td>2005-01-16</td>\n",
              "    </tr>\n",
              "    <tr>\n",
              "      <th>4</th>\n",
              "      <td>450</td>\n",
              "      <td>8762</td>\n",
              "      <td>2</td>\n",
              "      <td>2005-01-16</td>\n",
              "    </tr>\n",
              "    <tr>\n",
              "      <th>...</th>\n",
              "      <td>...</td>\n",
              "      <td>...</td>\n",
              "      <td>...</td>\n",
              "      <td>...</td>\n",
              "    </tr>\n",
              "    <tr>\n",
              "      <th>370855</th>\n",
              "      <td>572</td>\n",
              "      <td>37373</td>\n",
              "      <td>6</td>\n",
              "      <td>2005-01-15</td>\n",
              "    </tr>\n",
              "    <tr>\n",
              "      <th>370856</th>\n",
              "      <td>29</td>\n",
              "      <td>35124</td>\n",
              "      <td>7</td>\n",
              "      <td>2005-01-16</td>\n",
              "    </tr>\n",
              "    <tr>\n",
              "      <th>370857</th>\n",
              "      <td>495</td>\n",
              "      <td>22042</td>\n",
              "      <td>6</td>\n",
              "      <td>2005-01-16</td>\n",
              "    </tr>\n",
              "    <tr>\n",
              "      <th>370858</th>\n",
              "      <td>29</td>\n",
              "      <td>34937</td>\n",
              "      <td>9</td>\n",
              "      <td>2005-01-16</td>\n",
              "    </tr>\n",
              "    <tr>\n",
              "      <th>370859</th>\n",
              "      <td>631</td>\n",
              "      <td>34124</td>\n",
              "      <td>8</td>\n",
              "      <td>2005-01-16</td>\n",
              "    </tr>\n",
              "  </tbody>\n",
              "</table>\n",
              "<p>370860 rows × 4 columns</p>\n",
              "</div>\n",
              "      <button class=\"colab-df-convert\" onclick=\"convertToInteractive('df-459b6b2a-9e85-48a4-833e-4887298ef71d')\"\n",
              "              title=\"Convert this dataframe to an interactive table.\"\n",
              "              style=\"display:none;\">\n",
              "        \n",
              "  <svg xmlns=\"http://www.w3.org/2000/svg\" height=\"24px\"viewBox=\"0 0 24 24\"\n",
              "       width=\"24px\">\n",
              "    <path d=\"M0 0h24v24H0V0z\" fill=\"none\"/>\n",
              "    <path d=\"M18.56 5.44l.94 2.06.94-2.06 2.06-.94-2.06-.94-.94-2.06-.94 2.06-2.06.94zm-11 1L8.5 8.5l.94-2.06 2.06-.94-2.06-.94L8.5 2.5l-.94 2.06-2.06.94zm10 10l.94 2.06.94-2.06 2.06-.94-2.06-.94-.94-2.06-.94 2.06-2.06.94z\"/><path d=\"M17.41 7.96l-1.37-1.37c-.4-.4-.92-.59-1.43-.59-.52 0-1.04.2-1.43.59L10.3 9.45l-7.72 7.72c-.78.78-.78 2.05 0 2.83L4 21.41c.39.39.9.59 1.41.59.51 0 1.02-.2 1.41-.59l7.78-7.78 2.81-2.81c.8-.78.8-2.07 0-2.86zM5.41 20L4 18.59l7.72-7.72 1.47 1.35L5.41 20z\"/>\n",
              "  </svg>\n",
              "      </button>\n",
              "      \n",
              "  <style>\n",
              "    .colab-df-container {\n",
              "      display:flex;\n",
              "      flex-wrap:wrap;\n",
              "      gap: 12px;\n",
              "    }\n",
              "\n",
              "    .colab-df-convert {\n",
              "      background-color: #E8F0FE;\n",
              "      border: none;\n",
              "      border-radius: 50%;\n",
              "      cursor: pointer;\n",
              "      display: none;\n",
              "      fill: #1967D2;\n",
              "      height: 32px;\n",
              "      padding: 0 0 0 0;\n",
              "      width: 32px;\n",
              "    }\n",
              "\n",
              "    .colab-df-convert:hover {\n",
              "      background-color: #E2EBFA;\n",
              "      box-shadow: 0px 1px 2px rgba(60, 64, 67, 0.3), 0px 1px 3px 1px rgba(60, 64, 67, 0.15);\n",
              "      fill: #174EA6;\n",
              "    }\n",
              "\n",
              "    [theme=dark] .colab-df-convert {\n",
              "      background-color: #3B4455;\n",
              "      fill: #D2E3FC;\n",
              "    }\n",
              "\n",
              "    [theme=dark] .colab-df-convert:hover {\n",
              "      background-color: #434B5C;\n",
              "      box-shadow: 0px 1px 3px 1px rgba(0, 0, 0, 0.15);\n",
              "      filter: drop-shadow(0px 1px 2px rgba(0, 0, 0, 0.3));\n",
              "      fill: #FFFFFF;\n",
              "    }\n",
              "  </style>\n",
              "\n",
              "      <script>\n",
              "        const buttonEl =\n",
              "          document.querySelector('#df-459b6b2a-9e85-48a4-833e-4887298ef71d button.colab-df-convert');\n",
              "        buttonEl.style.display =\n",
              "          google.colab.kernel.accessAllowed ? 'block' : 'none';\n",
              "\n",
              "        async function convertToInteractive(key) {\n",
              "          const element = document.querySelector('#df-459b6b2a-9e85-48a4-833e-4887298ef71d');\n",
              "          const dataTable =\n",
              "            await google.colab.kernel.invokeFunction('convertToInteractive',\n",
              "                                                     [key], {});\n",
              "          if (!dataTable) return;\n",
              "\n",
              "          const docLinkHtml = 'Like what you see? Visit the ' +\n",
              "            '<a target=\"_blank\" href=https://colab.research.google.com/notebooks/data_table.ipynb>data table notebook</a>'\n",
              "            + ' to learn more about interactive tables.';\n",
              "          element.innerHTML = '';\n",
              "          dataTable['output_type'] = 'display_data';\n",
              "          await google.colab.output.renderOutput(dataTable, element);\n",
              "          const docLink = document.createElement('div');\n",
              "          docLink.innerHTML = docLinkHtml;\n",
              "          element.appendChild(docLink);\n",
              "        }\n",
              "      </script>\n",
              "    </div>\n",
              "  </div>\n",
              "  "
            ]
          },
          "metadata": {},
          "execution_count": 18
        },
        {
          "output_type": "stream",
          "name": "stdout",
          "text": [
            "Warning: total number of rows (370860) exceeds max_rows (20000). Limiting to first (20000) rows.\n"
          ]
        }
      ],
      "source": [
        "final_df"
      ]
    },
    {
      "cell_type": "code",
      "execution_count": 19,
      "id": "903020b4-0070-41c3-90ef-46f8915f7a3e",
      "metadata": {
        "id": "903020b4-0070-41c3-90ef-46f8915f7a3e"
      },
      "outputs": [],
      "source": [
        "# Create a pivot table of user-movie ratings\n",
        "ratings_matrix = final_df.pivot_table(index='User', columns='Movie', values='Rating')\n",
        "ratings_matrix = ratings_matrix.fillna(0)"
      ]
    },
    {
      "cell_type": "code",
      "execution_count": null,
      "id": "b15596e9-ec57-411d-952a-bc6bcd265942",
      "metadata": {
        "id": "b15596e9-ec57-411d-952a-bc6bcd265942",
        "outputId": "72b54576-84d6-4bb9-9eb0-2d83fc2abda9"
      },
      "outputs": [
        {
          "data": {
            "text/html": [
              "<div>\n",
              "<style scoped>\n",
              "    .dataframe tbody tr th:only-of-type {\n",
              "        vertical-align: middle;\n",
              "    }\n",
              "\n",
              "    .dataframe tbody tr th {\n",
              "        vertical-align: top;\n",
              "    }\n",
              "\n",
              "    .dataframe thead th {\n",
              "        text-align: right;\n",
              "    }\n",
              "</style>\n",
              "<table border=\"1\" class=\"dataframe\">\n",
              "  <thead>\n",
              "    <tr style=\"text-align: right;\">\n",
              "      <th>Movie</th>\n",
              "      <th>0</th>\n",
              "      <th>1</th>\n",
              "      <th>2</th>\n",
              "      <th>3</th>\n",
              "      <th>4</th>\n",
              "      <th>5</th>\n",
              "      <th>6</th>\n",
              "      <th>7</th>\n",
              "      <th>8</th>\n",
              "      <th>9</th>\n",
              "      <th>...</th>\n",
              "      <th>91939</th>\n",
              "      <th>91940</th>\n",
              "      <th>91941</th>\n",
              "      <th>91942</th>\n",
              "      <th>91943</th>\n",
              "      <th>91944</th>\n",
              "      <th>91945</th>\n",
              "      <th>91946</th>\n",
              "      <th>91947</th>\n",
              "      <th>91948</th>\n",
              "    </tr>\n",
              "    <tr>\n",
              "      <th>User</th>\n",
              "      <th></th>\n",
              "      <th></th>\n",
              "      <th></th>\n",
              "      <th></th>\n",
              "      <th></th>\n",
              "      <th></th>\n",
              "      <th></th>\n",
              "      <th></th>\n",
              "      <th></th>\n",
              "      <th></th>\n",
              "      <th></th>\n",
              "      <th></th>\n",
              "      <th></th>\n",
              "      <th></th>\n",
              "      <th></th>\n",
              "      <th></th>\n",
              "      <th></th>\n",
              "      <th></th>\n",
              "      <th></th>\n",
              "      <th></th>\n",
              "      <th></th>\n",
              "    </tr>\n",
              "  </thead>\n",
              "  <tbody>\n",
              "    <tr>\n",
              "      <th>0</th>\n",
              "      <td>0.0</td>\n",
              "      <td>0.0</td>\n",
              "      <td>0.0</td>\n",
              "      <td>0.0</td>\n",
              "      <td>0.0</td>\n",
              "      <td>0.0</td>\n",
              "      <td>0.0</td>\n",
              "      <td>0.0</td>\n",
              "      <td>0.0</td>\n",
              "      <td>0.0</td>\n",
              "      <td>...</td>\n",
              "      <td>0.0</td>\n",
              "      <td>0.0</td>\n",
              "      <td>0.0</td>\n",
              "      <td>0.0</td>\n",
              "      <td>0.0</td>\n",
              "      <td>0.0</td>\n",
              "      <td>0.0</td>\n",
              "      <td>0.0</td>\n",
              "      <td>0.0</td>\n",
              "      <td>0.0</td>\n",
              "    </tr>\n",
              "    <tr>\n",
              "      <th>1</th>\n",
              "      <td>0.0</td>\n",
              "      <td>0.0</td>\n",
              "      <td>0.0</td>\n",
              "      <td>0.0</td>\n",
              "      <td>0.0</td>\n",
              "      <td>0.0</td>\n",
              "      <td>0.0</td>\n",
              "      <td>0.0</td>\n",
              "      <td>0.0</td>\n",
              "      <td>0.0</td>\n",
              "      <td>...</td>\n",
              "      <td>0.0</td>\n",
              "      <td>0.0</td>\n",
              "      <td>0.0</td>\n",
              "      <td>0.0</td>\n",
              "      <td>0.0</td>\n",
              "      <td>0.0</td>\n",
              "      <td>0.0</td>\n",
              "      <td>0.0</td>\n",
              "      <td>0.0</td>\n",
              "      <td>0.0</td>\n",
              "    </tr>\n",
              "    <tr>\n",
              "      <th>2</th>\n",
              "      <td>0.0</td>\n",
              "      <td>0.0</td>\n",
              "      <td>0.0</td>\n",
              "      <td>0.0</td>\n",
              "      <td>0.0</td>\n",
              "      <td>0.0</td>\n",
              "      <td>0.0</td>\n",
              "      <td>0.0</td>\n",
              "      <td>0.0</td>\n",
              "      <td>0.0</td>\n",
              "      <td>...</td>\n",
              "      <td>0.0</td>\n",
              "      <td>0.0</td>\n",
              "      <td>0.0</td>\n",
              "      <td>0.0</td>\n",
              "      <td>0.0</td>\n",
              "      <td>0.0</td>\n",
              "      <td>0.0</td>\n",
              "      <td>0.0</td>\n",
              "      <td>0.0</td>\n",
              "      <td>0.0</td>\n",
              "    </tr>\n",
              "    <tr>\n",
              "      <th>3</th>\n",
              "      <td>0.0</td>\n",
              "      <td>0.0</td>\n",
              "      <td>0.0</td>\n",
              "      <td>0.0</td>\n",
              "      <td>0.0</td>\n",
              "      <td>0.0</td>\n",
              "      <td>0.0</td>\n",
              "      <td>0.0</td>\n",
              "      <td>0.0</td>\n",
              "      <td>0.0</td>\n",
              "      <td>...</td>\n",
              "      <td>0.0</td>\n",
              "      <td>0.0</td>\n",
              "      <td>0.0</td>\n",
              "      <td>0.0</td>\n",
              "      <td>0.0</td>\n",
              "      <td>0.0</td>\n",
              "      <td>0.0</td>\n",
              "      <td>0.0</td>\n",
              "      <td>0.0</td>\n",
              "      <td>0.0</td>\n",
              "    </tr>\n",
              "    <tr>\n",
              "      <th>4</th>\n",
              "      <td>0.0</td>\n",
              "      <td>0.0</td>\n",
              "      <td>0.0</td>\n",
              "      <td>0.0</td>\n",
              "      <td>0.0</td>\n",
              "      <td>0.0</td>\n",
              "      <td>0.0</td>\n",
              "      <td>0.0</td>\n",
              "      <td>0.0</td>\n",
              "      <td>0.0</td>\n",
              "      <td>...</td>\n",
              "      <td>0.0</td>\n",
              "      <td>0.0</td>\n",
              "      <td>0.0</td>\n",
              "      <td>0.0</td>\n",
              "      <td>0.0</td>\n",
              "      <td>0.0</td>\n",
              "      <td>0.0</td>\n",
              "      <td>0.0</td>\n",
              "      <td>0.0</td>\n",
              "      <td>0.0</td>\n",
              "    </tr>\n",
              "    <tr>\n",
              "      <th>...</th>\n",
              "      <td>...</td>\n",
              "      <td>...</td>\n",
              "      <td>...</td>\n",
              "      <td>...</td>\n",
              "      <td>...</td>\n",
              "      <td>...</td>\n",
              "      <td>...</td>\n",
              "      <td>...</td>\n",
              "      <td>...</td>\n",
              "      <td>...</td>\n",
              "      <td>...</td>\n",
              "      <td>...</td>\n",
              "      <td>...</td>\n",
              "      <td>...</td>\n",
              "      <td>...</td>\n",
              "      <td>...</td>\n",
              "      <td>...</td>\n",
              "      <td>...</td>\n",
              "      <td>...</td>\n",
              "      <td>...</td>\n",
              "      <td>...</td>\n",
              "    </tr>\n",
              "    <tr>\n",
              "      <th>2287</th>\n",
              "      <td>0.0</td>\n",
              "      <td>0.0</td>\n",
              "      <td>0.0</td>\n",
              "      <td>0.0</td>\n",
              "      <td>0.0</td>\n",
              "      <td>0.0</td>\n",
              "      <td>0.0</td>\n",
              "      <td>0.0</td>\n",
              "      <td>0.0</td>\n",
              "      <td>0.0</td>\n",
              "      <td>...</td>\n",
              "      <td>0.0</td>\n",
              "      <td>0.0</td>\n",
              "      <td>0.0</td>\n",
              "      <td>0.0</td>\n",
              "      <td>0.0</td>\n",
              "      <td>0.0</td>\n",
              "      <td>0.0</td>\n",
              "      <td>0.0</td>\n",
              "      <td>0.0</td>\n",
              "      <td>0.0</td>\n",
              "    </tr>\n",
              "    <tr>\n",
              "      <th>2288</th>\n",
              "      <td>0.0</td>\n",
              "      <td>0.0</td>\n",
              "      <td>0.0</td>\n",
              "      <td>0.0</td>\n",
              "      <td>0.0</td>\n",
              "      <td>0.0</td>\n",
              "      <td>0.0</td>\n",
              "      <td>0.0</td>\n",
              "      <td>0.0</td>\n",
              "      <td>0.0</td>\n",
              "      <td>...</td>\n",
              "      <td>0.0</td>\n",
              "      <td>0.0</td>\n",
              "      <td>0.0</td>\n",
              "      <td>0.0</td>\n",
              "      <td>0.0</td>\n",
              "      <td>0.0</td>\n",
              "      <td>0.0</td>\n",
              "      <td>0.0</td>\n",
              "      <td>0.0</td>\n",
              "      <td>0.0</td>\n",
              "    </tr>\n",
              "    <tr>\n",
              "      <th>2289</th>\n",
              "      <td>0.0</td>\n",
              "      <td>0.0</td>\n",
              "      <td>0.0</td>\n",
              "      <td>0.0</td>\n",
              "      <td>0.0</td>\n",
              "      <td>0.0</td>\n",
              "      <td>0.0</td>\n",
              "      <td>0.0</td>\n",
              "      <td>0.0</td>\n",
              "      <td>0.0</td>\n",
              "      <td>...</td>\n",
              "      <td>0.0</td>\n",
              "      <td>0.0</td>\n",
              "      <td>0.0</td>\n",
              "      <td>0.0</td>\n",
              "      <td>0.0</td>\n",
              "      <td>0.0</td>\n",
              "      <td>0.0</td>\n",
              "      <td>0.0</td>\n",
              "      <td>0.0</td>\n",
              "      <td>0.0</td>\n",
              "    </tr>\n",
              "    <tr>\n",
              "      <th>2290</th>\n",
              "      <td>0.0</td>\n",
              "      <td>0.0</td>\n",
              "      <td>0.0</td>\n",
              "      <td>0.0</td>\n",
              "      <td>0.0</td>\n",
              "      <td>0.0</td>\n",
              "      <td>0.0</td>\n",
              "      <td>0.0</td>\n",
              "      <td>0.0</td>\n",
              "      <td>0.0</td>\n",
              "      <td>...</td>\n",
              "      <td>0.0</td>\n",
              "      <td>0.0</td>\n",
              "      <td>0.0</td>\n",
              "      <td>0.0</td>\n",
              "      <td>0.0</td>\n",
              "      <td>0.0</td>\n",
              "      <td>0.0</td>\n",
              "      <td>0.0</td>\n",
              "      <td>0.0</td>\n",
              "      <td>0.0</td>\n",
              "    </tr>\n",
              "    <tr>\n",
              "      <th>2291</th>\n",
              "      <td>0.0</td>\n",
              "      <td>0.0</td>\n",
              "      <td>0.0</td>\n",
              "      <td>0.0</td>\n",
              "      <td>0.0</td>\n",
              "      <td>0.0</td>\n",
              "      <td>0.0</td>\n",
              "      <td>0.0</td>\n",
              "      <td>0.0</td>\n",
              "      <td>0.0</td>\n",
              "      <td>...</td>\n",
              "      <td>0.0</td>\n",
              "      <td>0.0</td>\n",
              "      <td>0.0</td>\n",
              "      <td>0.0</td>\n",
              "      <td>0.0</td>\n",
              "      <td>0.0</td>\n",
              "      <td>0.0</td>\n",
              "      <td>0.0</td>\n",
              "      <td>0.0</td>\n",
              "      <td>0.0</td>\n",
              "    </tr>\n",
              "  </tbody>\n",
              "</table>\n",
              "<p>2292 rows × 91949 columns</p>\n",
              "</div>"
            ],
            "text/plain": [
              "Movie  0      1      2      3      4      5      6      7      8      9      \\\n",
              "User                                                                          \n",
              "0        0.0    0.0    0.0    0.0    0.0    0.0    0.0    0.0    0.0    0.0   \n",
              "1        0.0    0.0    0.0    0.0    0.0    0.0    0.0    0.0    0.0    0.0   \n",
              "2        0.0    0.0    0.0    0.0    0.0    0.0    0.0    0.0    0.0    0.0   \n",
              "3        0.0    0.0    0.0    0.0    0.0    0.0    0.0    0.0    0.0    0.0   \n",
              "4        0.0    0.0    0.0    0.0    0.0    0.0    0.0    0.0    0.0    0.0   \n",
              "...      ...    ...    ...    ...    ...    ...    ...    ...    ...    ...   \n",
              "2287     0.0    0.0    0.0    0.0    0.0    0.0    0.0    0.0    0.0    0.0   \n",
              "2288     0.0    0.0    0.0    0.0    0.0    0.0    0.0    0.0    0.0    0.0   \n",
              "2289     0.0    0.0    0.0    0.0    0.0    0.0    0.0    0.0    0.0    0.0   \n",
              "2290     0.0    0.0    0.0    0.0    0.0    0.0    0.0    0.0    0.0    0.0   \n",
              "2291     0.0    0.0    0.0    0.0    0.0    0.0    0.0    0.0    0.0    0.0   \n",
              "\n",
              "Movie  ...  91939  91940  91941  91942  91943  91944  91945  91946  91947  \\\n",
              "User   ...                                                                  \n",
              "0      ...    0.0    0.0    0.0    0.0    0.0    0.0    0.0    0.0    0.0   \n",
              "1      ...    0.0    0.0    0.0    0.0    0.0    0.0    0.0    0.0    0.0   \n",
              "2      ...    0.0    0.0    0.0    0.0    0.0    0.0    0.0    0.0    0.0   \n",
              "3      ...    0.0    0.0    0.0    0.0    0.0    0.0    0.0    0.0    0.0   \n",
              "4      ...    0.0    0.0    0.0    0.0    0.0    0.0    0.0    0.0    0.0   \n",
              "...    ...    ...    ...    ...    ...    ...    ...    ...    ...    ...   \n",
              "2287   ...    0.0    0.0    0.0    0.0    0.0    0.0    0.0    0.0    0.0   \n",
              "2288   ...    0.0    0.0    0.0    0.0    0.0    0.0    0.0    0.0    0.0   \n",
              "2289   ...    0.0    0.0    0.0    0.0    0.0    0.0    0.0    0.0    0.0   \n",
              "2290   ...    0.0    0.0    0.0    0.0    0.0    0.0    0.0    0.0    0.0   \n",
              "2291   ...    0.0    0.0    0.0    0.0    0.0    0.0    0.0    0.0    0.0   \n",
              "\n",
              "Movie  91948  \n",
              "User          \n",
              "0        0.0  \n",
              "1        0.0  \n",
              "2        0.0  \n",
              "3        0.0  \n",
              "4        0.0  \n",
              "...      ...  \n",
              "2287     0.0  \n",
              "2288     0.0  \n",
              "2289     0.0  \n",
              "2290     0.0  \n",
              "2291     0.0  \n",
              "\n",
              "[2292 rows x 91949 columns]"
            ]
          },
          "execution_count": 14,
          "metadata": {},
          "output_type": "execute_result"
        }
      ],
      "source": [
        "ratings_matrix"
      ]
    },
    {
      "cell_type": "code",
      "execution_count": null,
      "id": "3ceaf6a2-e9e7-4067-b01f-515bc34f59a9",
      "metadata": {
        "id": "3ceaf6a2-e9e7-4067-b01f-515bc34f59a9",
        "outputId": "a7edf2a0-a722-4b56-89aa-80d6e3bf1149"
      },
      "outputs": [
        {
          "name": "stdout",
          "output_type": "stream",
          "text": [
            "Requirement already satisfied: pyclustering in /Users/alex/opt/anaconda3/lib/python3.9/site-packages (0.10.1.2)\n",
            "Requirement already satisfied: numpy>=1.15.2 in /Users/alex/opt/anaconda3/lib/python3.9/site-packages (from pyclustering) (1.21.5)\n",
            "Requirement already satisfied: scipy>=1.1.0 in /Users/alex/opt/anaconda3/lib/python3.9/site-packages (from pyclustering) (1.9.1)\n",
            "Requirement already satisfied: Pillow>=5.2.0 in /Users/alex/opt/anaconda3/lib/python3.9/site-packages (from pyclustering) (9.2.0)\n",
            "Requirement already satisfied: matplotlib>=3.0.0 in /Users/alex/opt/anaconda3/lib/python3.9/site-packages (from pyclustering) (3.5.2)\n",
            "Requirement already satisfied: python-dateutil>=2.7 in /Users/alex/opt/anaconda3/lib/python3.9/site-packages (from matplotlib>=3.0.0->pyclustering) (2.8.2)\n",
            "Requirement already satisfied: fonttools>=4.22.0 in /Users/alex/opt/anaconda3/lib/python3.9/site-packages (from matplotlib>=3.0.0->pyclustering) (4.25.0)\n",
            "Requirement already satisfied: packaging>=20.0 in /Users/alex/opt/anaconda3/lib/python3.9/site-packages (from matplotlib>=3.0.0->pyclustering) (21.3)\n",
            "Requirement already satisfied: kiwisolver>=1.0.1 in /Users/alex/opt/anaconda3/lib/python3.9/site-packages (from matplotlib>=3.0.0->pyclustering) (1.4.2)\n",
            "Requirement already satisfied: cycler>=0.10 in /Users/alex/opt/anaconda3/lib/python3.9/site-packages (from matplotlib>=3.0.0->pyclustering) (0.11.0)\n",
            "Requirement already satisfied: pyparsing>=2.2.1 in /Users/alex/opt/anaconda3/lib/python3.9/site-packages (from matplotlib>=3.0.0->pyclustering) (3.0.9)\n",
            "Requirement already satisfied: six>=1.5 in /Users/alex/opt/anaconda3/lib/python3.9/site-packages (from python-dateutil>=2.7->matplotlib>=3.0.0->pyclustering) (1.16.0)\n"
          ]
        }
      ],
      "source": [
        "!pip install pyclustering\n",
        "from pyclustering.cluster.kmeans import kmeans, kmeans_visualizer\n",
        "from pyclustering.cluster.center_initializer import kmeans_plusplus_initializer\n",
        "from pyclustering.samples.definitions import FCPS_SAMPLES\n",
        "from pyclustering.utils import read_sample\n",
        "from pyclustering.cluster.kmeans import kmeans\n",
        "from pyclustering.utils.metric import type_metric, distance_metric"
      ]
    },
    {
      "cell_type": "code",
      "execution_count": null,
      "id": "a26dcef5-1f13-48b8-9445-74d3ce13a0ce",
      "metadata": {
        "id": "a26dcef5-1f13-48b8-9445-74d3ce13a0ce"
      },
      "outputs": [],
      "source": [
        "# Threshold\n",
        "threshold = 1\n",
        "\n",
        "# Transform to binary\n",
        "binary_matrix = np.where(ratings_matrix >= threshold, 1, 0)"
      ]
    },
    {
      "cell_type": "code",
      "execution_count": null,
      "id": "81271815-7f18-4890-a83a-8686c293dd30",
      "metadata": {
        "id": "81271815-7f18-4890-a83a-8686c293dd30",
        "outputId": "a4ac076e-f7c0-4ce1-cdcc-9c5c5350ee50"
      },
      "outputs": [
        {
          "data": {
            "text/plain": [
              "array([[0, 0, 0, ..., 0, 0, 0],\n",
              "       [0, 0, 0, ..., 0, 0, 0],\n",
              "       [0, 0, 0, ..., 0, 0, 0],\n",
              "       ...,\n",
              "       [0, 0, 0, ..., 0, 0, 0],\n",
              "       [0, 0, 0, ..., 0, 0, 0],\n",
              "       [0, 0, 0, ..., 0, 0, 0]])"
            ]
          },
          "execution_count": 17,
          "metadata": {},
          "output_type": "execute_result"
        }
      ],
      "source": [
        "binary_matrix"
      ]
    },
    {
      "cell_type": "code",
      "execution_count": null,
      "id": "1f829cfd-4fa3-4ead-820f-2e13e332b22a",
      "metadata": {
        "id": "1f829cfd-4fa3-4ead-820f-2e13e332b22a"
      },
      "outputs": [],
      "source": [
        "# Convert the matrix to a numpy array\n",
        "matrix_array = ratings_matrix.to_numpy()\n",
        "\n",
        "# Create a dictionary that maps each row of the matrix to its index\n",
        "matrix_dict = {tuple(row): i for i, row in enumerate(matrix_array)}"
      ]
    },
    {
      "cell_type": "code",
      "execution_count": null,
      "id": "4dc589cb-6d00-490b-aaf4-bb4413b5bf39",
      "metadata": {
        "id": "4dc589cb-6d00-490b-aaf4-bb4413b5bf39",
        "outputId": "eb301330-9825-496c-aec8-46d4f1018aa4"
      },
      "outputs": [
        {
          "name": "stdout",
          "output_type": "stream",
          "text": [
            "0\n"
          ]
        },
        {
          "ename": "AttributeError",
          "evalue": "'numpy.ndarray' object has no attribute 'iloc'",
          "output_type": "error",
          "traceback": [
            "\u001b[0;31m---------------------------------------------------------------------------\u001b[0m",
            "\u001b[0;31mAttributeError\u001b[0m                            Traceback (most recent call last)",
            "\u001b[0;32m/var/folders/0b/7fx756g125jd7s2pqky62dhw0000gn/T/ipykernel_43740/2959116117.py\u001b[0m in \u001b[0;36m<module>\u001b[0;34m\u001b[0m\n\u001b[1;32m      5\u001b[0m     \u001b[0mprint\u001b[0m\u001b[0;34m(\u001b[0m\u001b[0mi\u001b[0m\u001b[0;34m)\u001b[0m\u001b[0;34m\u001b[0m\u001b[0;34m\u001b[0m\u001b[0m\n\u001b[1;32m      6\u001b[0m     \u001b[0;32mfor\u001b[0m \u001b[0mj\u001b[0m \u001b[0;32min\u001b[0m \u001b[0mrange\u001b[0m\u001b[0;34m(\u001b[0m\u001b[0mi\u001b[0m\u001b[0;34m,\u001b[0m \u001b[0mratings_matrix\u001b[0m\u001b[0;34m.\u001b[0m\u001b[0mshape\u001b[0m\u001b[0;34m[\u001b[0m\u001b[0;36m0\u001b[0m\u001b[0;34m]\u001b[0m\u001b[0;34m)\u001b[0m\u001b[0;34m:\u001b[0m\u001b[0;34m\u001b[0m\u001b[0;34m\u001b[0m\u001b[0m\n\u001b[0;32m----> 7\u001b[0;31m         \u001b[0md\u001b[0m \u001b[0;34m=\u001b[0m \u001b[0mnp\u001b[0m\u001b[0;34m.\u001b[0m\u001b[0msqrt\u001b[0m\u001b[0;34m(\u001b[0m\u001b[0mnp\u001b[0m\u001b[0;34m.\u001b[0m\u001b[0msum\u001b[0m\u001b[0;34m(\u001b[0m\u001b[0mbinary_matrix\u001b[0m\u001b[0;34m.\u001b[0m\u001b[0miloc\u001b[0m\u001b[0;34m[\u001b[0m\u001b[0mi\u001b[0m\u001b[0;34m,\u001b[0m\u001b[0;34m:\u001b[0m\u001b[0;34m]\u001b[0m\u001b[0;34m*\u001b[0m\u001b[0mbinary_matrix\u001b[0m\u001b[0;34m.\u001b[0m\u001b[0miloc\u001b[0m\u001b[0;34m[\u001b[0m\u001b[0mj\u001b[0m\u001b[0;34m,\u001b[0m\u001b[0;34m:\u001b[0m\u001b[0;34m]\u001b[0m \u001b[0;34m*\u001b[0m \u001b[0;34m(\u001b[0m\u001b[0mratings_matrix\u001b[0m\u001b[0;34m.\u001b[0m\u001b[0miloc\u001b[0m\u001b[0;34m[\u001b[0m\u001b[0mi\u001b[0m\u001b[0;34m,\u001b[0m\u001b[0;34m:\u001b[0m\u001b[0;34m]\u001b[0m \u001b[0;34m-\u001b[0m \u001b[0mratings_matrix\u001b[0m\u001b[0;34m.\u001b[0m\u001b[0miloc\u001b[0m\u001b[0;34m[\u001b[0m\u001b[0mj\u001b[0m\u001b[0;34m,\u001b[0m\u001b[0;34m:\u001b[0m\u001b[0;34m]\u001b[0m\u001b[0;34m)\u001b[0m\u001b[0;34m**\u001b[0m\u001b[0;36m2\u001b[0m\u001b[0;34m)\u001b[0m\u001b[0;34m)\u001b[0m\u001b[0;34m\u001b[0m\u001b[0;34m\u001b[0m\u001b[0m\n\u001b[0m\u001b[1;32m      8\u001b[0m         \u001b[0mD\u001b[0m\u001b[0;34m[\u001b[0m\u001b[0mi\u001b[0m\u001b[0;34m,\u001b[0m\u001b[0mj\u001b[0m\u001b[0;34m]\u001b[0m \u001b[0;34m=\u001b[0m \u001b[0md\u001b[0m\u001b[0;34m\u001b[0m\u001b[0;34m\u001b[0m\u001b[0m\n\u001b[1;32m      9\u001b[0m         \u001b[0mD\u001b[0m\u001b[0;34m[\u001b[0m\u001b[0mj\u001b[0m\u001b[0;34m,\u001b[0m\u001b[0mi\u001b[0m\u001b[0;34m]\u001b[0m \u001b[0;34m=\u001b[0m \u001b[0md\u001b[0m\u001b[0;34m\u001b[0m\u001b[0;34m\u001b[0m\u001b[0m\n",
            "\u001b[0;31mAttributeError\u001b[0m: 'numpy.ndarray' object has no attribute 'iloc'"
          ]
        }
      ],
      "source": [
        "# Calculate the weighted Euclidean distance matrix\n",
        "D = np.zeros((ratings_matrix.shape[0], ratings_matrix.shape[0]))\n",
        "\n",
        "for i in range(ratings_matrix.shape[0]):\n",
        "    print(i)\n",
        "    for j in range(i, ratings_matrix.shape[0]):\n",
        "        d = np.sqrt(np.sum(binary_matrix[i,:]*binary_matrix[j,:] * (ratings_matrix.iloc[i,:] - ratings_matrix.iloc[j,:])**2))\n",
        "        D[i,j] = d\n",
        "        D[j,i] = d\n"
      ]
    },
    {
      "cell_type": "code",
      "execution_count": null,
      "id": "0b4d746e-2b7c-4cc9-8c91-dd1f85ca987b",
      "metadata": {
        "id": "0b4d746e-2b7c-4cc9-8c91-dd1f85ca987b"
      },
      "outputs": [],
      "source": [
        "# Compute the binary matrix\n",
        "binary_matrix = ratings_matrix.notna().astype(int)\n",
        "\n",
        "# Compute the pairwise distances between the binary rows\n",
        "row_norms = np.sum(binary_matrix ** 2, axis=1)\n",
        "dot_product = binary_matrix @ binary_matrix.T\n",
        "distance_matrix_binary = np.sqrt(row_norms[:, np.newaxis] + row_norms - 2*dot_product)\n",
        "\n",
        "# Compute the pairwise distances between the ratings\n",
        "rating_diff = ratings_matrix.values[:, np.newaxis, :] - ratings_matrix.values\n",
        "distance_matrix_rating = np.sqrt(np.sum((binary_matrix[:, np.newaxis, :] * rating_diff) ** 2, axis=-1))\n",
        "\n",
        "# Compute the weighted Euclidean distance\n",
        "weighted_distance_matrix = distance_matrix_rating * distance_matrix_binary\n"
      ]
    },
    {
      "cell_type": "code",
      "execution_count": null,
      "id": "12a45355-d4a3-417a-8580-18f1e6c986cd",
      "metadata": {
        "id": "12a45355-d4a3-417a-8580-18f1e6c986cd"
      },
      "outputs": [],
      "source": [
        "D"
      ]
    },
    {
      "cell_type": "code",
      "execution_count": null,
      "id": "a6911e7b-7bd6-4e50-9197-d57843b540bb",
      "metadata": {
        "id": "a6911e7b-7bd6-4e50-9197-d57843b540bb"
      },
      "outputs": [],
      "source": [
        "# Calculate the weighted Euclidean distance matrix\n",
        "# D = np.zeros((ratings_matrix.shape[0], ratings_matrix.shape[0]))\n",
        "\n",
        "# for i in range(ratings_matrix.shape[0]):\n",
        "#     for j in range(i, ratings_matrix.shape[0]):\n",
        "D = np.zeros((100, 100))\n",
        "for i in range(100):\n",
        "    for j in range(i, 100):\n",
        "        d = np.sqrt(np.sum(binary_matrix[i,:]*binary_matrix[j,:] * (ratings_matrix.loc[i,:] - ratings_matrix.loc[j,:])**2))\n",
        "        D[i,j] = d\n",
        "        D[j,i] = d"
      ]
    },
    {
      "cell_type": "code",
      "execution_count": null,
      "id": "366a9ee9-1b48-46e5-903a-cf7c9f3a7f52",
      "metadata": {
        "id": "366a9ee9-1b48-46e5-903a-cf7c9f3a7f52"
      },
      "outputs": [],
      "source": [
        "D"
      ]
    },
    {
      "cell_type": "code",
      "execution_count": null,
      "id": "4c29300d-deb0-4ebd-b250-aa714a50a0a5",
      "metadata": {
        "id": "4c29300d-deb0-4ebd-b250-aa714a50a0a5"
      },
      "outputs": [],
      "source": [
        "from sklearn.cluster import KMeans\n",
        "# Cluster the users using K-means\n",
        "kmeans = KMeans(n_clusters=5).fit(D)\n",
        "\n",
        "# Get the cluster labels\n",
        "labels = kmeans.labels_\n",
        "\n",
        "# Print the labels for the first 10 users\n",
        "print(labels)"
      ]
    },
    {
      "cell_type": "code",
      "execution_count": null,
      "id": "2a2411e0-9be1-4d00-b1c0-7e58650da9bd",
      "metadata": {
        "id": "2a2411e0-9be1-4d00-b1c0-7e58650da9bd"
      },
      "outputs": [],
      "source": []
    }
  ],
  "metadata": {
    "kernelspec": {
      "display_name": "Python 3 (ipykernel)",
      "language": "python",
      "name": "python3"
    },
    "language_info": {
      "codemirror_mode": {
        "name": "ipython",
        "version": 3
      },
      "file_extension": ".py",
      "mimetype": "text/x-python",
      "name": "python",
      "nbconvert_exporter": "python",
      "pygments_lexer": "ipython3",
      "version": "3.9.13"
    },
    "toc-autonumbering": true,
    "toc-showcode": true,
    "toc-showmarkdowntxt": false,
    "toc-showtags": false,
    "colab": {
      "provenance": [],
      "include_colab_link": true
    }
  },
  "nbformat": 4,
  "nbformat_minor": 5
}